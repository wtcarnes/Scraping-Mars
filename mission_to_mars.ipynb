{
 "cells": [
  {
   "cell_type": "code",
   "execution_count": 2,
   "metadata": {},
   "outputs": [],
   "source": [
    "import pandas as pd\n",
    "from bs4 import BeautifulSoup\n",
    "from splinter import Browser\n",
    "from pprint import pprint\n",
    "import time"
   ]
  },
  {
   "cell_type": "code",
   "execution_count": 3,
   "metadata": {},
   "outputs": [],
   "source": [
    "executable_path = {'executable_path': 'chromedriver.exe'}\n",
    "browser = Browser('chrome', **executable_path, headless=False)"
   ]
  },
  {
   "cell_type": "code",
   "execution_count": 3,
   "metadata": {},
   "outputs": [
    {
     "name": "stdout",
     "output_type": "stream",
     "text": [
      "NASA Invites Students to Name Mars 2020 Rover\n",
      "Through Nov. 1, K-12 students in the U.S. are encouraged to enter an essay contest to name NASA's next Mars rover.\n"
     ]
    }
   ],
   "source": [
    "nasa_url = 'https://mars.nasa.gov/news/'\n",
    "browser.visit(nasa_url)\n",
    "\n",
    "html = browser.html\n",
    "soup = BeautifulSoup(html, 'html.parser')\n",
    "\n",
    "nasa_title = soup.find(\"div\",class_=\"content_title\").text\n",
    "nasa_para = soup.find(\"div\", class_=\"article_teaser_body\").text\n",
    "\n",
    "print(nasa_title)\n",
    "print(nasa_para)"
   ]
  },
  {
   "cell_type": "code",
   "execution_count": 4,
   "metadata": {},
   "outputs": [
    {
     "name": "stdout",
     "output_type": "stream",
     "text": [
      "https://www.jpl.nasa.gov/spaceimages/images/mediumsize/PIA14317_ip.jpg\n"
     ]
    }
   ],
   "source": [
    "featured_url = 'https://www.jpl.nasa.gov/spaceimages/?search=&category=Mars'\n",
    "browser.visit(featured_url)\n",
    "\n",
    "html = browser.html\n",
    "soup = BeautifulSoup(html, 'html.parser')\n",
    "\n",
    "main_url = 'https://www.jpl.nasa.gov'\n",
    "img_url = soup.find(\"a\", class_='button fancybox')[\"data-fancybox-href\"]\n",
    "featured_image_url = main_url + img_url\n",
    "\n",
    "print(featured_image_url)"
   ]
  },
  {
   "cell_type": "code",
   "execution_count": 6,
   "metadata": {},
   "outputs": [
    {
     "name": "stdout",
     "output_type": "stream",
     "text": [
      "We won’t be hearing from @MarsCuriosity or @NASAInSight for the next 2 weeks during Mars solar conjunction. Read more about why Mars missions go silent every 2 years: https://www.wral.com/mars-spacecraft-go-quiet-during-solar-conjunction/18595551/ …pic.twitter.com/fWruE2v151\n"
     ]
    }
   ],
   "source": [
    "twitter_url = 'https://twitter.com/marswxreport?lang=en'\n",
    "browser.visit(twitter_url)\n",
    "\n",
    "html = browser.html\n",
    "soup = BeautifulSoup(html, 'html.parser')\n",
    "\n",
    "mars_weather = soup.find('p', class_ = 'TweetTextSize TweetTextSize--normal js-tweet-text tweet-text').text\n",
    "print(mars_weather)"
   ]
  },
  {
   "cell_type": "code",
   "execution_count": 8,
   "metadata": {},
   "outputs": [
    {
     "name": "stdout",
     "output_type": "stream",
     "text": [
      "                                                   \n",
      "Mars Planet Profile                                \n",
      "Equatorial Diameter:                       6,792 km\n",
      "Polar Diameter:                            6,752 km\n",
      "Mass:                 6.39 × 10^23 kg (0.11 Earths)\n",
      "Moons:                          2 (Phobos & Deimos)\n",
      "Orbit Distance:            227,943,824 km (1.38 AU)\n",
      "Orbit Period:                  687 days (1.9 years)\n",
      "Surface Temperature:                   -87 to -5 °C\n",
      "First Record:                     2nd millennium BC\n",
      "Recorded By:                   Egyptian astronomers\n",
      "-------------------------------------------------------------------------------------------------------------------\n",
      "('<table border=\"1\" class=\"dataframe\">  <thead>    <tr style=\"text-align: '\n",
      " 'right;\">      <th></th>      <th></th>    </tr>    <tr>      <th>Mars Planet '\n",
      " 'Profile</th>      <th></th>    </tr>  </thead>  <tbody>    <tr>      '\n",
      " '<th>Equatorial Diameter:</th>      <td>6,792 km</td>    </tr>    <tr>      '\n",
      " '<th>Polar Diameter:</th>      <td>6,752 km</td>    </tr>    <tr>      '\n",
      " '<th>Mass:</th>      <td>6.39 × 10^23 kg (0.11 Earths)</td>    </tr>    '\n",
      " '<tr>      <th>Moons:</th>      <td>2 (Phobos &amp; Deimos)</td>    </tr>    '\n",
      " '<tr>      <th>Orbit Distance:</th>      <td>227,943,824 km (1.38 AU)</td>    '\n",
      " '</tr>    <tr>      <th>Orbit Period:</th>      <td>687 days (1.9 '\n",
      " 'years)</td>    </tr>    <tr>      <th>Surface Temperature:</th>      <td>-87 '\n",
      " 'to -5 °C</td>    </tr>    <tr>      <th>First Record:</th>      <td>2nd '\n",
      " 'millennium BC</td>    </tr>    <tr>      <th>Recorded By:</th>      '\n",
      " '<td>Egyptian astronomers</td>    </tr>  </tbody></table>')\n"
     ]
    }
   ],
   "source": [
    "table_url = 'https://space-facts.com/mars/'\n",
    "mars_table = pd.read_html(table_url)\n",
    "\n",
    "mars_df = mars_table[1]\n",
    "mars_df.columns = ['Mars Planet Profile', '']\n",
    "mars_df.set_index('Mars Planet Profile', inplace=True)\n",
    "\n",
    "mars_html_table = mars_df.to_html()\n",
    "mars_html_table = mars_html_table.replace('\\n', '')\n",
    "\n",
    "print(mars_df)\n",
    "print('-------------------------------------------------------------------------------------------------------------------')\n",
    "pprint(mars_html_table)"
   ]
  },
  {
   "cell_type": "code",
   "execution_count": 24,
   "metadata": {
    "scrolled": false
   },
   "outputs": [
    {
     "data": {
      "text/plain": [
       "[]"
      ]
     },
     "execution_count": 24,
     "metadata": {},
     "output_type": "execute_result"
    }
   ],
   "source": [
    "hemi_url = 'https://astrogeology.usgs.gov/search/results?q=hemisphere+enhanced&k1=target&v1=Mars'\n",
    "browser.visit(hemi_url)\n",
    "\n",
    "html = browser.html\n",
    "soup = BeautifulSoup(html, 'html.parser')\n",
    "\n",
    "stock_url = 'https://astrogeology.usgs.gov'\n",
    "img_links = soup.find_all('div', class_= \"widget block products\")\n",
    "hemisphere_image_urls = []\n",
    "\n",
    "for img in img_links:\n",
    "    hemi = img.find('h3').text\n",
    "    i_url = img.find('a', class_=\"item\")['href']\n",
    "    img_url = stock_url + i_url\n",
    "    browser.visit(stock_url + i_url)\n",
    "    img_html = browser.html\n",
    "    soup = BeautifulSoup(img_html, 'html.parser')\n",
    "    imgs_url = stock_url + soup.find('img', class_='wide-image')['src']\n",
    "    hemisphere_image_urls.append({\"title\" : hemi, \"img_url\" : imgs_url})\n",
    "hemisphere_image_urls"
   ]
  }
 ],
 "metadata": {
  "kernelspec": {
   "display_name": "Python 3",
   "language": "python",
   "name": "python3"
  },
  "language_info": {
   "codemirror_mode": {
    "name": "ipython",
    "version": 3
   },
   "file_extension": ".py",
   "mimetype": "text/x-python",
   "name": "python",
   "nbconvert_exporter": "python",
   "pygments_lexer": "ipython3",
   "version": "3.7.3"
  }
 },
 "nbformat": 4,
 "nbformat_minor": 2
}
